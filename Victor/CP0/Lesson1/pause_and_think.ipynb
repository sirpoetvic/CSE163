{
 "cells": [
  {
   "cell_type": "raw",
   "metadata": {},
   "source": [
    "Link: https://cse163.github.io/book/module-1-introduction-to-python/lesson-1-first-lesson/pause-and-think.html "
   ]
  },
  {
   "cell_type": "raw",
   "metadata": {},
   "source": [
    "Question 0: In your own words, write a few sentence summary on what you learned in this lesson today.\n",
    "    I learned how the course will be structured, and how the information is formatted."
   ]
  },
  {
   "cell_type": "raw",
   "metadata": {},
   "source": [
    "Question 1: What did you find challenging in this reading? Come up with a questions you might ask your peers or on the message board\n",
    "to help better understand that concept.\n",
    "    I didn't find this section particularly difficult."
   ]
  }
 ],
 "metadata": {
  "language_info": {
   "name": "python"
  }
 },
 "nbformat": 4,
 "nbformat_minor": 2
}
