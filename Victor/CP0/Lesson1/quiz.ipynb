{
 "cells": [
  {
   "cell_type": "raw",
   "metadata": {},
   "source": [
    "https://cse163.github.io/book/module-1-introduction-to-python/lesson-1-first-lesson/practice-quiz.html "
   ]
  },
  {
   "cell_type": "raw",
   "metadata": {},
   "source": [
    "Question 0:\n",
    "What is the best shape? (Hint: The answer is hexagon)\n",
    "    Option 3 (hexagon)"
   ]
  }
 ],
 "metadata": {
  "language_info": {
   "name": "python"
  }
 },
 "nbformat": 4,
 "nbformat_minor": 2
}
