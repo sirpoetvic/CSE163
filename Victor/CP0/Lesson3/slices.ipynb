{
 "cells": [
  {
   "cell_type": "raw",
   "metadata": {},
   "source": [
    "https://cse163.github.io/book/module-1-introduction-to-python/lesson-3-strings-and-lists/practice-slices.html "
   ]
  },
  {
   "cell_type": "code",
   "execution_count": null,
   "metadata": {},
   "outputs": [],
   "source": [
    "s = 'I have eaten the plums that were in the icebox'"
   ]
  },
  {
   "cell_type": "raw",
   "metadata": {},
   "source": [
    "Question 0: What is the value of the following slice?\n",
    "s[3:10]\n",
    "    \"ave_eat\""
   ]
  },
  {
   "cell_type": "raw",
   "metadata": {},
   "source": [
    "Question 1: What is the value of the following slice?\n",
    "s[s.find('p'):]\n",
    "    \"plums that were in the icebox\""
   ]
  },
  {
   "cell_type": "raw",
   "metadata": {},
   "source": [
    "Question 2: What is the value of the following slice?\n",
    "s[:s.find('t'):3]\n",
    "    \"Ia\""
   ]
  }
 ],
 "metadata": {
  "language_info": {
   "name": "python"
  }
 },
 "nbformat": 4,
 "nbformat_minor": 2
}
