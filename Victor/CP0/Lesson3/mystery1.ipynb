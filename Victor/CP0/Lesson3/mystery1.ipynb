{
 "cells": [
  {
   "cell_type": "raw",
   "metadata": {},
   "source": [
    "https://cse163.github.io/book/module-1-introduction-to-python/lesson-3-strings-and-lists/practice-mystery1.html "
   ]
  },
  {
   "cell_type": "raw",
   "metadata": {},
   "source": [
    "What are the values of the elements in list a1 after the following code executes?"
   ]
  },
  {
   "cell_type": "code",
   "execution_count": 1,
   "metadata": {},
   "outputs": [
    {
     "data": {
      "text/plain": [
       "[26, 19, 14, 11, 10]"
      ]
     },
     "execution_count": 1,
     "metadata": {},
     "output_type": "execute_result"
    }
   ],
   "source": [
    "def mystery1(a1, a2):\n",
    "    for i in range(len(a1)):\n",
    "        a1[i] += a2[len(a2) - i - 1]\n",
    "\n",
    "a1 = [1, 3, 5, 7, 9]\n",
    "a2 = [1, 4, 9, 16, 25]\n",
    "mystery1(a1, a2)\n",
    "a1"
   ]
  },
  {
   "cell_type": "raw",
   "metadata": {},
   "source": [
    "Question 0:\n",
    "a1[0]\n",
    "    26"
   ]
  },
  {
   "cell_type": "raw",
   "metadata": {},
   "source": [
    "Question 1:\n",
    "a1[1]\n",
    "    19"
   ]
  },
  {
   "cell_type": "raw",
   "metadata": {},
   "source": [
    "Question 2:\n",
    "a1[2]\n",
    "    14"
   ]
  },
  {
   "cell_type": "raw",
   "metadata": {},
   "source": [
    "Question 3:\n",
    "a1[3]\n",
    "    11"
   ]
  },
  {
   "cell_type": "raw",
   "metadata": {},
   "source": [
    "Question 4:\n",
    "a1[4]\n",
    "    10"
   ]
  }
 ],
 "metadata": {
  "kernelspec": {
   "display_name": "Python 3",
   "language": "python",
   "name": "python3"
  },
  "language_info": {
   "codemirror_mode": {
    "name": "ipython",
    "version": 3
   },
   "file_extension": ".py",
   "mimetype": "text/x-python",
   "name": "python",
   "nbconvert_exporter": "python",
   "pygments_lexer": "ipython3",
   "version": "3.11.9"
  }
 },
 "nbformat": 4,
 "nbformat_minor": 2
}
