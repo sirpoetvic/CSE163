{
 "cells": [
  {
   "cell_type": "raw",
   "metadata": {},
   "source": [
    "Link: https://cse163.github.io/book/module-1-introduction-to-python/lesson-3-strings-and-lists/pause-and-think.html "
   ]
  },
  {
   "cell_type": "raw",
   "metadata": {},
   "source": [
    "Question 0: In your own words, write a few sentence summary on what you learned in this lesson today.\n",
    "    In this lesson, I learned about strings, methods about strings, and lists. Overall, this lesson went over the iteration \n",
    "    of strings and lists."
   ]
  },
  {
   "cell_type": "raw",
   "metadata": {},
   "source": [
    "Question 1: What did you find challenging in this reading? Come up with a questions you might ask your peers or on\n",
    "the message board to help better understand that concept.\n",
    "    I found the slicing strings part of this reading to be a little difficult, but I think with a little usage and practice,\n",
    "    I'll be able to do it without looking up the syntax. I'm not too worried about this though."
   ]
  }
 ],
 "metadata": {
  "language_info": {
   "name": "python"
  }
 },
 "nbformat": 4,
 "nbformat_minor": 2
}
