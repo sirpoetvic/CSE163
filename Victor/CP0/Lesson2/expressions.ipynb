{
 "cells": [
  {
   "cell_type": "raw",
   "metadata": {},
   "source": [
    "Link: https://cse163.github.io/book/module-1-introduction-to-python/lesson-2-python-basics/practice-expressions.html "
   ]
  },
  {
   "cell_type": "raw",
   "metadata": {},
   "source": [
    "Question 0:\n",
    "What is the output of the following code snippet?\n",
    "    True"
   ]
  },
  {
   "cell_type": "code",
   "execution_count": 1,
   "metadata": {},
   "outputs": [
    {
     "name": "stdout",
     "output_type": "stream",
     "text": [
      "True\n"
     ]
    }
   ],
   "source": [
    "x = 2.4\n",
    "y = 1.2\n",
    "x = x / y\n",
    "y = 5\n",
    "print(x ** 2 <= y)"
   ]
  }
 ],
 "metadata": {
  "kernelspec": {
   "display_name": "Python 3",
   "language": "python",
   "name": "python3"
  },
  "language_info": {
   "codemirror_mode": {
    "name": "ipython",
    "version": 3
   },
   "file_extension": ".py",
   "mimetype": "text/x-python",
   "name": "python",
   "nbconvert_exporter": "python",
   "pygments_lexer": "ipython3",
   "version": "3.11.8"
  }
 },
 "nbformat": 4,
 "nbformat_minor": 2
}
