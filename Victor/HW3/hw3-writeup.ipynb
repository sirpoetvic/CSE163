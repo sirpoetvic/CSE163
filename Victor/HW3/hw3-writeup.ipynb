{
 "cells": [
  {
   "cell_type": "raw",
   "metadata": {
    "vscode": {
     "languageId": "raw"
    }
   },
   "source": [
    "1. Do you think the bar chart for bar_chart_high_school is an effective data visualization?\n",
    "    I do not think the bar chart is an effective data visualization. First off, it depicts the\n",
    "    data repetitively. The average of M and F is the result of the A, so the A is repetitive. Other\n",
    "    than that, I think that the bar graph is a good way to depict what was desired to be displayed."
   ]
  },
  {
   "cell_type": "raw",
   "metadata": {
    "vscode": {
     "languageId": "raw"
    }
   },
   "source": [
    "2. How and why did you choose the plot for plot_hispanic_min_degree?\n",
    "    I chose the scatterplot with a line of best fit because it depicts the growth in the\n",
    "    number of hispanic people with degrees (high school and bachelor separately). In addition,\n",
    "    I used the xticks() function to depict the data properly, as the data has more data points\n",
    "    in the early 2000s - I made sure to space the data out accordingly to depict the positive,\n",
    "    linear relation."
   ]
  },
  {
   "cell_type": "raw",
   "metadata": {
    "vscode": {
     "languageId": "raw"
    }
   },
   "source": [
    "3. Datasets can biased. Bias in data means it might be skewed away from or portray a wrong picture of reality. For example, the data might\n",
    "contain inaccuracies or the methods used to collect the data may have been flawed. Describe a possible bias present in this dataset and why\n",
    "it might have occurred.\n",
    "    The data of the set might be slightly skewed because of the collection technique. For instance, the individuals may identify to be a part of several\n",
    "    groups, being Asian AND Hispanic, for instance, but failed to include that. I think other than that, the data accurately portrays what it tries to,\n",
    "    assuming that it accurated collected it."
   ]
  },
  {
   "cell_type": "raw",
   "metadata": {
    "vscode": {
     "languageId": "raw"
    }
   },
   "source": [
    "4. Intentions don't equate outcomes—many people intending to good have caused very real harm in the world. We'll discuss specific examples of\n",
    "well-intentioned algorithms perpetuating more harm later in the quarter. In computing, that harm is magnified, automated, and reproduced by computers.\n",
    "\n",
    "Describe an application, analysis, or decision motivated by this dataset with the intended goal of improving educational equity but that ultimately\n",
    "exacerbates social injustice. How can this data analysis lead to further injustice even when designing with equity in mind? In other words, we are\n",
    "trying to think of a way that we could use this data with good intentions, but actually would end up causing more harm.\n",
    "    I think that some people might try to \"level the playing field\" for different races, meaning that they include more resources for certain races\n",
    "    than others, in an attempt to get more to higher level degrees. However, I think that it's important to consider the outliers. For instance - if\n",
    "    more individuals from race A are able to get Masters degrees, and less individuals from race B are generally getting no more than a high school\n",
    "    diploma, some people might think to allocate more resources to get the population representing race B to have more Masters degrees. However, in this,\n",
    "    they might not consider the population from race A that is not able to get past a high school diploma - and in that, it might be, unfair? It's something\n",
    "    like that, that the data might not represent, and society is responsible for adding morality to their actions."
   ]
  }
 ],
 "metadata": {
  "language_info": {
   "name": "python"
  }
 },
 "nbformat": 4,
 "nbformat_minor": 2
}
