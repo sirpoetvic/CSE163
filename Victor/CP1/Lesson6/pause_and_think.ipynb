{
 "cells": [
  {
   "cell_type": "raw",
   "metadata": {},
   "source": [
    "https://cse163.github.io/book/module-2-data-structures-and-files/lesson-6-csv-data/pause-and-think.html \n"
   ]
  },
  {
   "cell_type": "raw",
   "metadata": {},
   "source": [
    "Question 0: In your own words, write a few sentence summary on what you learned in this lesson today.\n",
    "    In this lesson, I learned about using CSVs, and how they are quite useful in storing data. In addition,\n",
    "    I learned how to process a CSV, and take data from it."
   ]
  },
  {
   "cell_type": "raw",
   "metadata": {},
   "source": [
    "Question 1: What did you find challenging in this reading? Come up with a questions you might ask your peers or on\n",
    "the message board to help better understand that concept.\n",
    "    I think I found the lesson simple enough to follow along with."
   ]
  }
 ],
 "metadata": {
  "language_info": {
   "name": "python"
  }
 },
 "nbformat": 4,
 "nbformat_minor": 2
}
