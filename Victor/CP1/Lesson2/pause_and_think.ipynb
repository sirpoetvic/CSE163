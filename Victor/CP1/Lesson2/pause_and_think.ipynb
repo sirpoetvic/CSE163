{
 "cells": [
  {
   "cell_type": "raw",
   "metadata": {},
   "source": [
    "https://cse163.github.io/book/module-1-introduction-to-python/lesson-2-python-basics/pause-and-think.html "
   ]
  },
  {
   "cell_type": "raw",
   "metadata": {},
   "source": [
    "Question 0: In your own words, write a few sentence summary on what you learned in this lesson today.\n",
    "    Today, I learned about the syntax of Python loops, including for loops, while loops,\n",
    "    and function workings (including main-method patterns)."
   ]
  },
  {
   "cell_type": "raw",
   "metadata": {},
   "source": [
    "Question 1: What did you find challenging in this reading? Come up with a questions you might ask your peers or on the message\n",
    "board to help better understand that concept.\n",
    "    I found the main-method syntax super weird, and unfamiliar. However, I think I'll get used\n",
    "    to it."
   ]
  }
 ],
 "metadata": {
  "language_info": {
   "name": "python"
  }
 },
 "nbformat": 4,
 "nbformat_minor": 2
}
