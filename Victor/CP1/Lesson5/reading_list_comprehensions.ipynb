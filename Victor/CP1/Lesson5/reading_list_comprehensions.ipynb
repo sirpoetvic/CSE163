{
 "cells": [
  {
   "cell_type": "raw",
   "metadata": {},
   "source": [
    "Link: https://cse163.github.io/book/module-2-data-structures-and-files/lesson-5-data-structures-tuple-set-dict/practice-reading-list-comprehensions.html "
   ]
  },
  {
   "cell_type": "raw",
   "metadata": {},
   "source": [
    "Question 0: What is the result of the following code block?"
   ]
  },
  {
   "cell_type": "code",
   "execution_count": 1,
   "metadata": {},
   "outputs": [
    {
     "data": {
      "text/plain": [
       "['a', 'o', 'o']"
      ]
     },
     "execution_count": 1,
     "metadata": {},
     "output_type": "execute_result"
    }
   ],
   "source": [
    "words = ['I', 'saw', 'a', 'dog', 'today']\n",
    "new_words = [word[1] for word in words if len(word) >= 2]\n",
    "new_words"
   ]
  },
  {
   "cell_type": "raw",
   "metadata": {},
   "source": [
    "Option 1: [\"a\", \"o\", \"o\"]"
   ]
  }
 ],
 "metadata": {
  "kernelspec": {
   "display_name": "Python 3",
   "language": "python",
   "name": "python3"
  },
  "language_info": {
   "codemirror_mode": {
    "name": "ipython",
    "version": 3
   },
   "file_extension": ".py",
   "mimetype": "text/x-python",
   "name": "python",
   "nbconvert_exporter": "python",
   "pygments_lexer": "ipython3",
   "version": "3.11.9"
  }
 },
 "nbformat": 4,
 "nbformat_minor": 2
}
