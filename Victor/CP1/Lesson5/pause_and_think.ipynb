{
 "cells": [
  {
   "cell_type": "raw",
   "metadata": {},
   "source": [
    "https://cse163.github.io/book/module-2-data-structures-and-files/lesson-5-data-structures-tuple-set-dict/pause-and-think.html\n"
   ]
  },
  {
   "cell_type": "raw",
   "metadata": {},
   "source": [
    "Question 0: In your own words, write a few sentence summary on what you learned in this lesson today.\n",
    "    In this lesson, I learned about the different ways to store groups of information - lists, tuples, sets, and dicts. Some have\n",
    "    different reasons to be used, such as efficiency, or if order is needed to be kept, etc.\n"
   ]
  },
  {
   "cell_type": "raw",
   "metadata": {},
   "source": [
    "Question 1: What did you find challenging in this reading? Come up with a questions you might ask your peers or on\n",
    "the message board to help better understand that concept.\n",
    "    I didn't find much of this difficult. I think the only exception was telling the difference between lists and tuples? The brackets\n",
    "    and the parentheses are difficult to define the data format."
   ]
  }
 ],
 "metadata": {
  "language_info": {
   "name": "python"
  }
 },
 "nbformat": 4,
 "nbformat_minor": 2
}
