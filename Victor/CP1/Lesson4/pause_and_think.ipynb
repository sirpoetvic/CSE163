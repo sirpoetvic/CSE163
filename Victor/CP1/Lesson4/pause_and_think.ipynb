{
 "cells": [
  {
   "cell_type": "raw",
   "metadata": {},
   "source": [
    "https://cse163.github.io/book/module-2-data-structures-and-files/lesson-4-lists-and-files/pause-and-think.html"
   ]
  },
  {
   "cell_type": "raw",
   "metadata": {},
   "source": [
    "Question 0: In your own words, write a few sentence summary on what you learned in this lesson today.\n",
    "    In this lesson, I learned how to process files, some common list functions, and about Jupyter notebooks. "
   ]
  },
  {
   "cell_type": "raw",
   "metadata": {},
   "source": [
    "Question 1: What did you find challenging in this reading? Come up with a questions you might ask your peers or on the message\n",
    "board to help better understand that concept.\n",
    "    I found the file path part of this lesson to be a little difficult. However, I'd say that after I played around with \n",
    "    the address paths, I was able to successfully read the files."
   ]
  }
 ],
 "metadata": {
  "language_info": {
   "name": "python"
  }
 },
 "nbformat": 4,
 "nbformat_minor": 2
}
