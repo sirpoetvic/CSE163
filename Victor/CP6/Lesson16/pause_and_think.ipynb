{
 "cells": [
  {
   "cell_type": "raw",
   "metadata": {
    "vscode": {
     "languageId": "raw"
    }
   },
   "source": [
    "https://cse163.github.io/book/module-6-efficiency/lesson-16-efficiency/pause-and-think.html"
   ]
  },
  {
   "cell_type": "raw",
   "metadata": {
    "vscode": {
     "languageId": "raw"
    }
   },
   "source": [
    "Question 0: In your own words, write a few sentence summary on what you learned in this lesson today.\n",
    "    In this lesson, I learned about the big-O notation, and worked on figuring out data structures that result in certain\n",
    "    runtimes/efficiency times. I have already learned about big-O in other classes, so this is pretty easy to understand."
   ]
  },
  {
   "cell_type": "raw",
   "metadata": {
    "vscode": {
     "languageId": "raw"
    }
   },
   "source": [
    "Question 1: What did you find challenging in this reading? Come up with a questions you might ask your peers or on the message board to help better understand that concept.\n",
    "    I didn't find much of this challenging because I already did the some of the coursework in a different course (data structures)."
   ]
  }
 ],
 "metadata": {
  "language_info": {
   "name": "python"
  }
 },
 "nbformat": 4,
 "nbformat_minor": 2
}
