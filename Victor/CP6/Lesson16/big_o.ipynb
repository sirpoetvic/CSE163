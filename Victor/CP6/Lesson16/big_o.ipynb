{
 "cells": [
  {
   "cell_type": "raw",
   "metadata": {
    "vscode": {
     "languageId": "raw"
    }
   },
   "source": [
    "https://cse163.github.io/book/module-6-efficiency/lesson-16-efficiency/practice-big-o.html"
   ]
  },
  {
   "cell_type": "raw",
   "metadata": {
    "vscode": {
     "languageId": "raw"
    }
   },
   "source": [
    "Question 0:\n",
    "    Option 1: O(n)"
   ]
  },
  {
   "cell_type": "code",
   "execution_count": null,
   "metadata": {},
   "outputs": [],
   "source": [
    "def method1(n):\n",
    "    value = 0\n",
    "    for i in range(n):\n",
    "        for j in range(9):\n",
    "            value += 7 * i + j\n",
    "    return value ** 2"
   ]
  },
  {
   "cell_type": "raw",
   "metadata": {
    "vscode": {
     "languageId": "raw"
    }
   },
   "source": [
    "Question 1:\n",
    "    Option 0: O(1)"
   ]
  },
  {
   "cell_type": "code",
   "execution_count": null,
   "metadata": {},
   "outputs": [],
   "source": [
    "def method(n):\n",
    "    t = 0\n",
    "    for i in range(3):\n",
    "        for j in range(14):\n",
    "            t += n\n",
    "\n",
    "        for j in range(200):\n",
    "            t += j\n",
    "    return j"
   ]
  },
  {
   "cell_type": "raw",
   "metadata": {
    "vscode": {
     "languageId": "raw"
    }
   },
   "source": [
    "Question 2:\n",
    "    Option 3: O(n^2)"
   ]
  },
  {
   "cell_type": "code",
   "execution_count": null,
   "metadata": {},
   "outputs": [],
   "source": [
    "def method(nums):\n",
    "    max_diff = None\n",
    "    for n1 in nums:\n",
    "        for n2 in nums:\n",
    "            diff = n1 - n2\n",
    "            if max_diff is None or diff > max_diff:\n",
    "                diff = max_diff\n",
    "    return max_diff"
   ]
  },
  {
   "cell_type": "raw",
   "metadata": {
    "vscode": {
     "languageId": "raw"
    }
   },
   "source": [
    "Question 3: For this problem, let \"n\" be the length of the given list of numbers nums. For this problem, you will need\n",
    "to assume that the max and min functions will be implemented by having to search the whole list.\n",
    "    Option 1: O(n)\n",
    "    "
   ]
  },
  {
   "cell_type": "code",
   "execution_count": null,
   "metadata": {},
   "outputs": [],
   "source": [
    "def method(nums):\n",
    "    return max(nums) * min(nums)"
   ]
  },
  {
   "cell_type": "raw",
   "metadata": {
    "vscode": {
     "languageId": "raw"
    }
   },
   "source": [
    "Question 4:\n",
    "    Option 3: O(n^2)"
   ]
  },
  {
   "cell_type": "code",
   "execution_count": null,
   "metadata": {},
   "outputs": [],
   "source": [
    "def method(nums):\n",
    "    x = len(nums)\n",
    "    t = 0\n",
    "    for i in range(x * x / 2):\n",
    "        t += i\n",
    "    return t"
   ]
  }
 ],
 "metadata": {
  "language_info": {
   "name": "python"
  }
 },
 "nbformat": 4,
 "nbformat_minor": 2
}
