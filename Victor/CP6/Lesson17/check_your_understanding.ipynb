{
 "cells": [
  {
   "cell_type": "raw",
   "metadata": {
    "vscode": {
     "languageId": "raw"
    }
   },
   "source": [
    "https://cse163.github.io/book/module-6-efficiency/lesson-17-profiling-and-program-speed/check-your-understanding.html"
   ]
  },
  {
   "cell_type": "raw",
   "metadata": {
    "vscode": {
     "languageId": "raw"
    }
   },
   "source": [
    "Question 0: Consider the task of trying to compute the sum of numbers between 1 and n. Which one of these implementations\n",
    "do you think is more likely to be the fastest one for a very large n?\n",
    "    Option 1:"
   ]
  },
  {
   "cell_type": "code",
   "execution_count": null,
   "metadata": {},
   "outputs": [],
   "source": [
    "def cumulative_sum(n):\n",
    "    return n * (n + 1) / 2"
   ]
  },
  {
   "cell_type": "raw",
   "metadata": {
    "vscode": {
     "languageId": "raw"
    }
   },
   "source": [
    "Question 1: Which of the following are reasons data scientists tend to prefer Python over other programming languages like C or Java?\n",
    "    Option 1 and 2"
   ]
  }
 ],
 "metadata": {
  "language_info": {
   "name": "python"
  }
 },
 "nbformat": 4,
 "nbformat_minor": 2
}
