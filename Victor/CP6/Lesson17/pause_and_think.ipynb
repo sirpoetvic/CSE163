{
 "cells": [
  {
   "cell_type": "raw",
   "metadata": {
    "vscode": {
     "languageId": "raw"
    }
   },
   "source": [
    "https://cse163.github.io/book/module-6-efficiency/lesson-17-profiling-and-program-speed/pause-and-think.html"
   ]
  },
  {
   "cell_type": "raw",
   "metadata": {
    "vscode": {
     "languageId": "raw"
    }
   },
   "source": [
    "Question 0: In your own words, write a few sentence summary on what you learned in this lesson today.\n",
    "    In this lesson, I learned about the efficiency of Python, and a little bit about how it works in the background.\n",
    "    I also learned that it is possible to use profilers to figure out how long it takes for the program to run. The line_profiler\n",
    "    package, also called kernprof, is a great tool for this."
   ]
  },
  {
   "cell_type": "raw",
   "metadata": {
    "vscode": {
     "languageId": "raw"
    }
   },
   "source": [
    "Question 1: What did you find challenging in this reading? Come up with a questions you might ask your peers or on the message board to help better understand that concept.\n",
    "    I wasn't able to setup the kernprof, but the idea seems simple enough. It's just showing the runtimes of the program.\n",
    "    (use @Profiler at the top of the program, and the command \"kernprof -v -l test.py\""
   ]
  }
 ],
 "metadata": {
  "language_info": {
   "name": "python"
  }
 },
 "nbformat": 4,
 "nbformat_minor": 2
}
