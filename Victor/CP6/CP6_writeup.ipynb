{
 "cells": [
  {
   "cell_type": "raw",
   "metadata": {
    "vscode": {
     "languageId": "raw"
    }
   },
   "source": [
    "Question #1A\n",
    "What is the measured time complexity of your ORIGINAL get_primes algorithm? Is it Linear or Quadratic? Does this meet\n",
    "your expectations as you examine the code? Explain.\n",
    "    The time complexity of my original get_primes algorithm is quadratic. Based on counting the O(n) complexity, it should be\n",
    "    around O(n^3/2). It's not quite efficient, but it works for small numbers."
   ]
  },
  {
   "cell_type": "raw",
   "metadata": {
    "vscode": {
     "languageId": "raw"
    }
   },
   "source": [
    "Question #1B\n",
    "What is the measured time complexity of your Sieve of Eratosthenes implementation of get_primes? Does it appear Linear or Quadratic?\n",
    "Does this meet your expectations as you examine the code? Explain. Feel free to do some online research of Sieve of Eratosthenes.\n",
    "    The measured time complexity of the Sieve of Eratosthenes implementation is neither linear, nor quadratic! It looks almost logarithmic.\n",
    "    This makes sense, as the number of numbers needed to be examined is significantly decreased, many times."
   ]
  },
  {
   "cell_type": "raw",
   "metadata": {
    "vscode": {
     "languageId": "raw"
    }
   },
   "source": [
    "Question #2\n",
    "Examine the get_sum.png graph. Explain what the graph is saying about the code found in the method get_sum. What is the Big-O?\n",
    "    The get_sum graph is saying that the speed of the program begins to take really really long, really quickly when n increases \n",
    "    quickly. The speed of the program is increasing in a quadratic manner."
   ]
  },
  {
   "cell_type": "raw",
   "metadata": {
    "vscode": {
     "languageId": "raw"
    }
   },
   "source": [
    "Question #3\n",
    "Examine the graphs limit_range_fast.png and limit_range_slow.png. How do the points on each of the graphs grow on the y-axis?\n",
    "Does it look linear? Describe how the graphs look using Big-O notation.\n",
    "    The graph of limit_range_slow looks quadratic, and the points increase y very quickly. On the other hand, the limit_range_fast\n",
    "    graph depicts a linear logarithmic graph. It might be mistaken for a linear graph.\n",
    "\n",
    "    slow: O(N^2)\n",
    "    fast: O(log(N))"
   ]
  },
  {
   "cell_type": "raw",
   "metadata": {
    "vscode": {
     "languageId": "raw"
    }
   },
   "source": [
    "Question #4\n",
    "Examine the code for the limit_range_slow. Explain why it is so slow. Explain the Big-O complexity as best you can.\n",
    "Essentially, show the work to derive the Big-O complexity. In this example, we will assume that there are n values in the list.\n",
    "AND, the range will be of size n. (e.g. n = high - low). For reference, the slow code is:\n",
    "\n",
    "return [ n for n in range(low, high) if n in items]\n",
    "\n",
    "The reason that this is so slow is that the code goes over n number of items, twice. It first generates the list of numbers from\n",
    "low to high, taking n steps. Then, it checks every n number of numbers to check its presence in items."
   ]
  },
  {
   "cell_type": "raw",
   "metadata": {
    "vscode": {
     "languageId": "raw"
    }
   },
   "source": [
    "Question #5\n",
    "Look at the graphs for get_list_slow, get_list_med and get_list_fast. Don't forget to look at the scale. What do you suspect is\n",
    "the Big-O complexity for each? Explain the speeds of each method.\n",
    "    I suspect that the big-O complexity are the following:\n",
    "    Fast: O(N)\n",
    "        This should be O(N), because it runs through the value \"n\" 2 times. One time in creating the \"items\" list, and another time\n",
    "        when running the helper method limit_list_to_range_fast.\n",
    "    Medium: O(N)\n",
    "        This should be O(N) as well. It runs for \"n - 1\" times, which simplifies to O(N) in big-O notation.\n",
    "    Slow: O(n^2)\n",
    "        This runs from 1 to n in the outer loop, and runs from 0 to the outer loop's number. That is O(N^2)."
   ]
  }
 ],
 "metadata": {
  "language_info": {
   "name": "python"
  }
 },
 "nbformat": 4,
 "nbformat_minor": 2
}
