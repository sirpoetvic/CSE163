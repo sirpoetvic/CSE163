{
 "cells": [
  {
   "cell_type": "raw",
   "metadata": {
    "vscode": {
     "languageId": "raw"
    }
   },
   "source": [
    "Question #1A\n",
    "What is the measured time complexity of your ORIGINAL get_primes algorithm? Is it Linear or Quadratic? Does this meet your expectations as you examine the code? Explain."
   ]
  },
  {
   "cell_type": "raw",
   "metadata": {
    "vscode": {
     "languageId": "raw"
    }
   },
   "source": [
    "Question #1B\n",
    "What is the measured time complexity of your Sieve of Eratosthenes implementation of get_primes? Does it appear Linear or Quadratic?\n",
    "Does this meet your expectations as you examine the code? Explain.\n",
    "\n",
    "Feel free to do some online research of Sieve of Eratosthenes."
   ]
  },
  {
   "cell_type": "raw",
   "metadata": {
    "vscode": {
     "languageId": "raw"
    }
   },
   "source": [
    "Question #2\n",
    "Examine the get_sum.png graph. Explain what the graph is saying about the code found in the method get_sum. What is the Big-O?"
   ]
  },
  {
   "cell_type": "raw",
   "metadata": {
    "vscode": {
     "languageId": "raw"
    }
   },
   "source": [
    "Question #3\n",
    "Examine the graphs limit_range_fast.png and limit_range_slow.png. How do the points on each of the graphs grow on the y-axis? Does it look linear? Describe how the graphs look using Big-O notation."
   ]
  },
  {
   "cell_type": "raw",
   "metadata": {
    "vscode": {
     "languageId": "raw"
    }
   },
   "source": [
    "Question #4\n",
    "Examine the code for the limit_range_slow. Explain why it is so slow. Explain the Big-O complexity as best you can. Essentially, show the work to derive the Big-O complexity. In this example, we will assume that there are n values in the list. AND, the range will be of size n. (e.g. n = high - low).\n",
    "\n",
    "For reference, the slow code is:\n",
    "\n",
    "return [ n for n in range(low, high) if n in items]"
   ]
  },
  {
   "cell_type": "raw",
   "metadata": {
    "vscode": {
     "languageId": "raw"
    }
   },
   "source": [
    "Question #5\n",
    "Look at the graphs for get_list_slow, get_list_med and get_list_fast. Don't forget to look at the scale. What do you suspect is the Big-O complexity for each? Explain the speeds of each method."
   ]
  }
 ],
 "metadata": {
  "language_info": {
   "name": "python"
  }
 },
 "nbformat": 4,
 "nbformat_minor": 2
}
