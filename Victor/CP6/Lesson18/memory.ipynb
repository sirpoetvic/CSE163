{
 "cells": [
  {
   "cell_type": "raw",
   "metadata": {
    "vscode": {
     "languageId": "raw"
    }
   },
   "source": [
    "https://cse163.github.io/book/module-6-efficiency/lesson-18-memory/practice-memory.html"
   ]
  },
  {
   "cell_type": "raw",
   "metadata": {
    "vscode": {
     "languageId": "raw"
    }
   },
   "source": [
    "Question 0: Rank the different types of memory from the slowest to fastest. This means the slowest memory should\n",
    "be on the top and the fastest on the bottom.\n",
    "    1) Option 3: Register\n",
    "    2) Option 0: Cache\n",
    "    3) Option 2: Main Memory (RAM)\n",
    "    4) Option 1: Disk"
   ]
  },
  {
   "cell_type": "raw",
   "metadata": {
    "vscode": {
     "languageId": "raw"
    }
   },
   "source": [
    "Question 1: When creating objects in Python, what section of main memory (RAM) are they most likely to be created in?\n",
    "    Option 2: Heaps"
   ]
  },
  {
   "cell_type": "raw",
   "metadata": {
    "vscode": {
     "languageId": "raw"
    }
   },
   "source": [
    "Question 2: Your friend is working on a data analysis project and notices their program is running very slowly for their\n",
    "very large dataset (say 20 GBs large). What might you recommend as good strategies to help them develop their program?\n",
    "    Option 1 and 2"
   ]
  }
 ],
 "metadata": {
  "language_info": {
   "name": "python"
  }
 },
 "nbformat": 4,
 "nbformat_minor": 2
}
