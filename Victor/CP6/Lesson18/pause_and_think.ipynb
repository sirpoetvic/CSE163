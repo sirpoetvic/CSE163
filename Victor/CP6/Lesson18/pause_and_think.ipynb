{
 "cells": [
  {
   "cell_type": "raw",
   "metadata": {
    "vscode": {
     "languageId": "raw"
    }
   },
   "source": [
    "https://cse163.github.io/book/module-6-efficiency/lesson-18-memory/pause-and-think.html"
   ]
  },
  {
   "cell_type": "raw",
   "metadata": {
    "vscode": {
     "languageId": "raw"
    }
   },
   "source": [
    "Question 0: In your own words, write a few sentence summary on what you learned in this lesson today.\n",
    "    In this lesson, I learned about the internal memory of a computer. At least, the basis of how it is used in\n",
    "    conjunction to Python programs. Different things are stored in different places, like the disk, or the RAM. It\n",
    "    takes different amounts of time to access different memory storages."
   ]
  },
  {
   "cell_type": "raw",
   "metadata": {
    "vscode": {
     "languageId": "raw"
    }
   },
   "source": [
    "Question 1: What did you find challenging in this reading? Come up with a questions you might ask your peers or on the message board to help better understand that concept.\n",
    "    I think that figuring the \"pickle\" library was weird, but it's really just another way to store data. It feels like\n",
    "    it's just like RAM, but maybe faster to get data from? There wasn't much else that felt challenging, because the analogies\n",
    "    provided made sense (like a disk being harder to access than the RAM, and the amount of time it would take to make avocado toast)."
   ]
  }
 ],
 "metadata": {
  "language_info": {
   "name": "python"
  }
 },
 "nbformat": 4,
 "nbformat_minor": 2
}
