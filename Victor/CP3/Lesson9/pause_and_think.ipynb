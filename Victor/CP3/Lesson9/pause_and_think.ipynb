{
 "cells": [
  {
   "cell_type": "raw",
   "metadata": {},
   "source": [
    "https://cse163.github.io/book/module-3-pandas/lesson-9-time-series/pause-and-think.html"
   ]
  },
  {
   "cell_type": "raw",
   "metadata": {},
   "source": [
    "Question 0: In your own words, write a few sentence summary on what you learned in this lesson today.\n",
    "    In this lesson, I learned how to use time series. Time series are similar to the row indexes, in which rows can be\n",
    "    identified by their time. Also, one interesting part of this lesson was an introduction to plotting - df.plot() can\n",
    "    be used to plot data. It did mention that lesson 10 will go over more of the plotting, so I'll learn more then."
   ]
  },
  {
   "cell_type": "raw",
   "metadata": {},
   "source": [
    "Question 1: What did you find challenging in this reading? Come up with a questions you might ask your peers or on\n",
    "the message board to help better understand that concept.\n",
    "    I think that I found the plotting part of the page a little odd, because it looked a little weird of how we recorrected\n",
    "    the excess data - in specific, the \"high resolution\" data. It does make more sense to only take the data that we need,\n",
    "    though."
   ]
  }
 ],
 "metadata": {
  "language_info": {
   "name": "python"
  }
 },
 "nbformat": 4,
 "nbformat_minor": 2
}
