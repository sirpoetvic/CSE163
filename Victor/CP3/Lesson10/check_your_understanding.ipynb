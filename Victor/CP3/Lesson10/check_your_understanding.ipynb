{
 "cells": [
  {
   "cell_type": "raw",
   "metadata": {},
   "source": [
    "https://cse163.github.io/book/module-4-libraries-for-data-science/lesson-10-data-visualization/practice-check-your-understanding.html"
   ]
  },
  {
   "cell_type": "raw",
   "metadata": {},
   "source": [
    "Question 0:\n",
    "Suppose I had this small dataset (shown below) in a variable called df. We want to only filter df so that we have all the data but the rows where 'C' is NaN.\n",
    "Which of the following methods successfully filters this dataset as described?\n",
    "    Option 4: df['C'].dropna()"
   ]
  }
 ],
 "metadata": {
  "language_info": {
   "name": "python"
  }
 },
 "nbformat": 4,
 "nbformat_minor": 2
}
