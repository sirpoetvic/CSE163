{
 "cells": [
  {
   "cell_type": "code",
   "execution_count": null,
   "metadata": {},
   "outputs": [],
   "source": [
    "https://cse163.github.io/book/module-4-libraries-for-data-science/lesson-11-machine-learning/practice-machine-learning-questions.html"
   ]
  },
  {
   "cell_type": "raw",
   "metadata": {
    "vscode": {
     "languageId": "raw"
    }
   },
   "source": [
    "Consider the example used in the Visual Introduction to Machine Learning we read in the lesson today. For this problem, we will select\n",
    "one aspect of the example used in the article. We want you to select which of the vocabulary term we learned today best describes the role that \n",
    "aspect plays in the machine learning task. (Relevant for Questions 0 - 3)"
   ]
  },
  {
   "cell_type": "raw",
   "metadata": {
    "vscode": {
     "languageId": "raw"
    }
   },
   "source": [
    "Question 0:\n",
    "The elevation of the house.\n",
    "    Option 2: Feature"
   ]
  },
  {
   "cell_type": "raw",
   "metadata": {
    "vscode": {
     "languageId": "raw"
    }
   },
   "source": [
    "Question 1:\n",
    "The city the house is in (SF or NY).\n",
    "    Option 3: Label"
   ]
  },
  {
   "cell_type": "raw",
   "metadata": {
    "vscode": {
     "languageId": "raw"
    }
   },
   "source": [
    "Question 2:\n",
    "Growing the tree by adding forks.\n",
    "    Option 1: Learning algorithm"
   ]
  },
  {
   "cell_type": "raw",
   "metadata": {
    "vscode": {
     "languageId": "raw"
    }
   },
   "source": [
    "Questino 3:\n",
    "THe final decision tree.\n",
    "    Option 0: Model"
   ]
  },
  {
   "cell_type": "raw",
   "metadata": {
    "vscode": {
     "languageId": "raw"
    }
   },
   "source": [
    "Question 4:\n",
    "Consider the task trying to take information about a patient and predicting their systolic blood pressure (one of the numbers that are reported\n",
    "in someone's blood pressure). Would this be best modeled by a classification or regression task?\n",
    "    Option 1: Regression. Regression is used when the numbers are real numbers, and in this case, the number is blood pressure."
   ]
  },
  {
   "cell_type": "raw",
   "metadata": {
    "vscode": {
     "languageId": "raw"
    }
   },
   "source": [
    "Question 5: Consider the following decision tree (remember, left means true and right means false) -- https://static.us.edusercontent.com/files/IF2hAThiY0zcKO9dx6gkJdge.\n",
    "Instead of giving the features names, we use generic names x[1] and x[2]. We commonly think of a model's decision boundary as being a drawing that shows how it \n",
    "separates all the points it predicts as one class from those that it predicts the other. Below we have shown a decision boundary separating the points \n",
    "classified as positive and those as negative -- https://static.us.edusercontent.com/files/DFla3xy05AwgHGWm8l8YHREP \n",
    "Question: True or False, the decision boundary shown below corresponds to the decisions made by the tree shown above (i.e., the decisions shown in the graph\n",
    "for all possible inputs (x[1], x[2]) are consistent with the decisions for the tree)?\n",
    "    Option 0: True. The decision tree follows the same rules as the graph."
   ]
  }
 ],
 "metadata": {
  "language_info": {
   "name": "python"
  }
 },
 "nbformat": 4,
 "nbformat_minor": 2
}
