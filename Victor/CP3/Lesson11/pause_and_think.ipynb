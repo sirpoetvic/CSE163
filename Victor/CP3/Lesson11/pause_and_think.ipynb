{
 "cells": [
  {
   "cell_type": "raw",
   "metadata": {
    "vscode": {
     "languageId": "raw"
    }
   },
   "source": [
    "https://cse163.github.io/book/module-4-libraries-for-data-science/lesson-11-machine-learning/pause-and-think.html"
   ]
  },
  {
   "cell_type": "raw",
   "metadata": {
    "vscode": {
     "languageId": "raw"
    }
   },
   "source": [
    "Question 0: In your own words, write a few sentence summary on what you learned in this lesson today.\n",
    "    Here's some terminology that the lesson went over:\n",
    "        - Features: Things that describe the focused object.\n",
    "        - Labels: Identifier for what category/associated number the object is attributed to.\n",
    "        - Regression: Labels are REAL numbers. Think of a model acting as a \"best-fit\" line.\n",
    "        - Classification: Labels are categorical (like cat vs. dog).\n",
    "        - Model: A model is the end result of all the data analysis. This is essentially something that will identify objects will attribute to based on training."
   ]
  },
  {
   "cell_type": "raw",
   "metadata": {
    "vscode": {
     "languageId": "raw"
    }
   },
   "source": [
    "Question 1: What did you find challenging in this reading? Come up with a questions you might ask your peers or on the message board to help better understand that concept.\n",
    "    I think the only part that I had trouble understanding was the difference between a feature and a label, but the only thing to remember is that the features describe\n",
    "    something about the object, or an aspect. That's how I understand it, at least."
   ]
  }
 ],
 "metadata": {
  "language_info": {
   "name": "python"
  }
 },
 "nbformat": 4,
 "nbformat_minor": 2
}
