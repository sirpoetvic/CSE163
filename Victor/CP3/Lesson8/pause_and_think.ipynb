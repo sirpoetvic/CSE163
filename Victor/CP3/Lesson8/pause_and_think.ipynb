{
 "cells": [
  {
   "cell_type": "raw",
   "metadata": {},
   "source": [
    "https://cse163.github.io/book/module-3-pandas/lesson-8-more-pandas/pause-and-think.html"
   ]
  },
  {
   "cell_type": "raw",
   "metadata": {},
   "source": [
    "Question 0: In your own words, write a few sentence summary on what you learned in this lesson today.\n",
    "    In this lesson, I learned that there are some very important functions, such as groupby and apply.\n",
    "    Groupby: splits the DataFrame into categories on a given category, applies the function of the other\n",
    "    given category. In the end, all of the data is combined into the first category it was originally split into.\n",
    "\n",
    "    See the following link for a super useful visualization: https://cse163.github.io/book/_images/groupby.png\n",
    "    Apply: At the end of the groupby statement, it's possible to tack something on at the end (such as .sum(), or .count()).\n",
    "    Apply uses a different format: \"df['name'].apply(len)\" - the parentheses are not necessary."
   ]
  },
  {
   "cell_type": "raw",
   "metadata": {},
   "source": [
    "Question 1: What did you find challenging in this reading? Come up with a questions you might ask your peers or on\n",
    "the message board to help better understand that concept.\n",
    "    I think that the hardest part of this is understanding what the difference between the Series and the DataFrame is.\n",
    "    One of my classmates mentioned that it's easier to think about if it's more than 1 column/row, then it's a DataFrame.\n",
    "    If it's just 1, then it's a Series."
   ]
  }
 ],
 "metadata": {
  "language_info": {
   "name": "python"
  }
 },
 "nbformat": 4,
 "nbformat_minor": 2
}
