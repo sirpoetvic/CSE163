{
 "cells": [
  {
   "cell_type": "code",
   "execution_count": 19,
   "metadata": {},
   "outputs": [
    {
     "data": {
      "text/plain": [
       "100.0"
      ]
     },
     "execution_count": 19,
     "metadata": {},
     "output_type": "execute_result"
    }
   ],
   "source": [
    "from re import L\n",
    "import geopandas as gpd\n",
    "import pandas as pd\n",
    "\n",
    "\n",
    "def load_in_data(\n",
    "    census_dataset: str, food_access_dataset: str\n",
    ") -> gpd.GeoDataFrame:\n",
    "    \"\"\"\n",
    "    merges census_dataset and food_access_dataset, returning\n",
    "    the result as a GeoDataFrame\n",
    "\n",
    "    Args:\n",
    "        census_dataset (str): path to census dataset file\n",
    "        food_access_dataset (str): path to the food access dataset file\n",
    "\n",
    "    Returns:\n",
    "        gpd.GeoDataFrame: Merged GeoDataFrame\n",
    "    \"\"\"\n",
    "    # read the files\n",
    "    census = gpd.read_file(census_dataset)\n",
    "    food_access = gpd.read_file(food_access_dataset)\n",
    "\n",
    "    # make sure that both colums are strings to compare when merging\n",
    "    census[\"CTIDFP00\"] = census[\"CTIDFP00\"].astype(str)\n",
    "    food_access[\"CensusTract\"] = food_access[\"CensusTract\"].astype(str)\n",
    "\n",
    "    # return the files, merged on \"CTIFP00\" and \"CensusTract\"\n",
    "    merged = census.merge(food_access, how=\"left\")\n",
    "    return merged\n",
    "\n",
    "data = load_in_data(\n",
    "    \"food_access/washington.json\", \"food_access/food_access.csv\"\n",
    ")\n",
    "total_census_tracts = len(data)\n",
    "\n",
    "# Number of census tracts with food access data\n",
    "tracts_with_food_data = len(data[\"CensusTract\"].notnull())\n",
    "\n",
    "# Calculate the percentage\n",
    "percentage = ((tracts_with_food_data) / total_census_tracts) * 100\n",
    "percentage"
   ]
  }
 ],
 "metadata": {
  "kernelspec": {
   "display_name": "Python 3",
   "language": "python",
   "name": "python3"
  },
  "language_info": {
   "codemirror_mode": {
    "name": "ipython",
    "version": 3
   },
   "file_extension": ".py",
   "mimetype": "text/x-python",
   "name": "python",
   "nbconvert_exporter": "python",
   "pygments_lexer": "ipython3",
   "version": "3.12.3"
  }
 },
 "nbformat": 4,
 "nbformat_minor": 2
}
