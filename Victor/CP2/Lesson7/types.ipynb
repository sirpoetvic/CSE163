{
 "cells": [
  {
   "cell_type": "raw",
   "metadata": {},
   "source": [
    "https://cse163.github.io/book/module-3-pandas/lesson-7-introduction-to-pandas/practice-types.html"
   ]
  },
  {
   "cell_type": "code",
   "execution_count": 6,
   "metadata": {},
   "outputs": [
    {
     "name": "stdout",
     "output_type": "stream",
     "text": [
      "<class 'pandas.core.series.Series'>\n",
      "<class 'pandas.core.frame.DataFrame'>\n",
      "<class 'pandas.core.series.Series'>\n",
      "<class 'numpy.int64'>\n"
     ]
    }
   ],
   "source": [
    "import pandas as pd\n",
    "df = pd.read_csv(\"emissions.csv\")\n",
    "print(type(df[\"country\"]))\n",
    "print(type(df.loc[df[\"emissions\"] > 100, [\"emissions\", \"city\"]]))\n",
    "print(type(df.loc[1, \"city\":\"country\"]))\n",
    "print(type(df.loc[3, \"emissions\"]))"
   ]
  },
  {
   "cell_type": "raw",
   "metadata": {},
   "source": [
    "Question 0: What is the type of the following expression? If we stored the result of this expression in a variable, what is its type?\n",
    "df[\"country\"]\n",
    "    Option 2: Series"
   ]
  },
  {
   "cell_type": "raw",
   "metadata": {},
   "source": [
    "Question 1: What is the type of the following expression? If we stored the result of this expression in a variable, what is its type?\n",
    "df.loc[df['emissions'] > 100, ['emissions', 'city']]\n",
    "    Option 4: DataFrame"
   ]
  },
  {
   "cell_type": "raw",
   "metadata": {},
   "source": [
    "Question 2: What is the type of the following expression? If we stored the result of this expression in a variable, what is its type?\n",
    "df.loc[1, 'city':'country']\n",
    "    Option 2: Series"
   ]
  },
  {
   "cell_type": "raw",
   "metadata": {},
   "source": [
    "Question 3: What is the type of the following expression? If we stored the result of this expression in a variable, what is its type?\n",
    "df.loc[3, 'emissions']\n",
    "    Option 1: int"
   ]
  }
 ],
 "metadata": {
  "kernelspec": {
   "display_name": "Python 3",
   "language": "python",
   "name": "python3"
  },
  "language_info": {
   "codemirror_mode": {
    "name": "ipython",
    "version": 3
   },
   "file_extension": ".py",
   "mimetype": "text/x-python",
   "name": "python",
   "nbconvert_exporter": "python",
   "pygments_lexer": "ipython3",
   "version": "3.11.9"
  }
 },
 "nbformat": 4,
 "nbformat_minor": 2
}
