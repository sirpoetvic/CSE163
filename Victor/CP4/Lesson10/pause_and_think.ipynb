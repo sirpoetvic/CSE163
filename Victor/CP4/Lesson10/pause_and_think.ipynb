{
 "cells": [
  {
   "cell_type": "raw",
   "metadata": {},
   "source": [
    "https://cse163.github.io/book/module-4-libraries-for-data-science/lesson-10-data-visualization/pause-and-think.html"
   ]
  },
  {
   "cell_type": "raw",
   "metadata": {
    "vscode": {
     "languageId": "raw"
    }
   },
   "source": [
    "Question 0: In your own words, write a few sentence summary on what you learned in this lesson today.\n",
    "    In this lesson, I learned about default parameters. Default parameters are variables that can hold a default value, but can also be assigned if necessary.\n",
    "    In addition, I also learned about how to deal with missing data. It is possible to check where certain rows/columns don't have any values - check the below cell.\n",
    "    Also, it should be noted that the first two statements don't actually make any adjustment to the DataFrame, but only returns the value. The third statement \n",
    "    makes an adjustment to the DataFrame, replacing all NaN signals with 0. I also learned about how to visualize the data with graphs using seaborn (sns) and matplotlib (plt)\n",
    "    "
   ]
  },
  {
   "cell_type": "code",
   "execution_count": 3,
   "metadata": {},
   "outputs": [],
   "source": [
    "import pandas as pd\n",
    "\n",
    "df = pd.read_csv(\"fmri.csv\")\n",
    "\n",
    "# Returns all the rows in df where the signal is not NaN\n",
    "df[df[\"signal\"].notnull()]\n",
    "\n",
    "# Returns all the rows in df that did not contain a NaN value\n",
    "df.dropna()\n",
    "\n",
    "# Replaces all NaN signals with 0\n",
    "df[\"signal\"] = df[\"signal\"].fillna(0)\n",
    "print(df)"
   ]
  },
  {
   "cell_type": "raw",
   "metadata": {
    "vscode": {
     "languageId": "raw"
    }
   },
   "source": [
    "Question 1: What did you find challenging in this reading? Come up with a questions you might ask your peers or on the message board to help better understand that concept.\n",
    "    I found the plottig part of this reading a little difficult. I think I just need to check back to the documentation when I create specific graphs, such as bar graphs,\n",
    "    scatter plots, etc."
   ]
  }
 ],
 "metadata": {
  "kernelspec": {
   "display_name": "Python 3",
   "language": "python",
   "name": "python3"
  },
  "language_info": {
   "codemirror_mode": {
    "name": "ipython",
    "version": 3
   },
   "file_extension": ".py",
   "mimetype": "text/x-python",
   "name": "python",
   "nbconvert_exporter": "python",
   "pygments_lexer": "ipython3",
   "version": "3.11.9"
  }
 },
 "nbformat": 4,
 "nbformat_minor": 2
}
