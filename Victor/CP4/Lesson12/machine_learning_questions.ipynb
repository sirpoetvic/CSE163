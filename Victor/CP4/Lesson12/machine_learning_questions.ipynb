{
 "cells": [
  {
   "cell_type": "raw",
   "metadata": {
    "vscode": {
     "languageId": "raw"
    }
   },
   "source": [
    "https://cse163.github.io/book/module-4-libraries-for-data-science/lesson-12-machine-learning-pt-2/practice-machine-learning-questions.html"
   ]
  },
  {
   "cell_type": "raw",
   "metadata": {
    "vscode": {
     "languageId": "raw"
    }
   },
   "source": [
    "Question 0: How many columns will the result of pd.get_dummies(df) have? Enter result as an integer (e.g. 4).\n",
    "    6"
   ]
  },
  {
   "cell_type": "raw",
   "metadata": {
    "vscode": {
     "languageId": "raw"
    }
   },
   "source": [
    "Question 1: How many rows will the result of pd.get_dummies(df) have? Enter result as an integer (e.g. 4 ).\n",
    "    3"
   ]
  },
  {
   "cell_type": "raw",
   "metadata": {
    "vscode": {
     "languageId": "raw"
    }
   },
   "source": [
    "Question 2: Consider the general task of assessing performance of a machine learning model. Which of the following options best describes why\n",
    "we needed to introduce a test set to evaluate the future performance of the model?\n",
    "    Option 2: The test set hasn't been seen by the model when training."
   ]
  },
  {
   "cell_type": "raw",
   "metadata": {
    "vscode": {
     "languageId": "raw"
    }
   },
   "source": [
    "Question 3: As we increase p, what happens to the complexity of the model?\n",
    "    Option 0: It increases."
   ]
  },
  {
   "cell_type": "raw",
   "metadata": {
    "vscode": {
     "languageId": "raw"
    }
   },
   "source": [
    "Question 4: If we use a polynomial with very high degree p, would we expect that the training error is higher or lower than a model with low degree \n",
    " (e.g., linear regression)? In other words as p increases in degree, would we expect the training error to go up or down?\n",
    "    Option 1: The training error should go down as p increases. Consider the taylor polynomials. The higher the degree of the polynomial, the more\n",
    "    the function is fit by the polynomial. This can get extrememly accurate, which means the error should significantly decrease."
   ]
  }
 ],
 "metadata": {
  "language_info": {
   "name": "python"
  }
 },
 "nbformat": 4,
 "nbformat_minor": 2
}
