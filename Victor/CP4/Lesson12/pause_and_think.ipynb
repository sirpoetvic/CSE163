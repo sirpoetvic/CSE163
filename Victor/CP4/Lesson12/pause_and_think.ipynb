{
 "cells": [
  {
   "cell_type": "raw",
   "metadata": {
    "vscode": {
     "languageId": "raw"
    }
   },
   "source": [
    "https://cse163.github.io/book/module-4-libraries-for-data-science/lesson-12-machine-learning-pt-2/pause-and-think.html"
   ]
  },
  {
   "cell_type": "raw",
   "metadata": {
    "vscode": {
     "languageId": "raw"
    }
   },
   "source": [
    "Question 0: In your own words, write a few sentence summary on what you learned in this lesson today.\n",
    "    In this lesson, I learned about how machine learning can be used - and the process that the model takes to be trained. In specific, there was a particular part\n",
    "    that was interesting, that pointed out the \"overfitting\" of data, in which the model trains too closely to the specific given dataset, and how it's necessary\n",
    "    to split off a part of the training and test data. \n",
    "    In addition, it also important to consider the pros and cons to using machine learning as a solution, considering ethics, the realisitic usability of the model,\n",
    "    and potential biases that the model may catch onto (when using ML)."
   ]
  },
  {
   "cell_type": "raw",
   "metadata": {
    "vscode": {
     "languageId": "raw"
    }
   },
   "source": [
    "Question 1: What did you find challenging in this reading? Come up with a questions you might ask your peers or on the message board to help better understand that concept.\n",
    "    I think that of the recent readings, this one was pretty straight forward. I think the best part was understanding the increase of compelexity of the regression model,\n",
    "    and how when the polynomial degree \"p\" increases, the complexity and accuracy both increase. I related this to my calculus class, which instructed about the Taylor\n",
    "    Polynomials, in which as the degree increases, the polynomail fits the function increasingly accurately."
   ]
  }
 ],
 "metadata": {
  "language_info": {
   "name": "python"
  }
 },
 "nbformat": 4,
 "nbformat_minor": 2
}
