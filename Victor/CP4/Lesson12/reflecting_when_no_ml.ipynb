{
 "cells": [
  {
   "cell_type": "raw",
   "metadata": {
    "vscode": {
     "languageId": "raw"
    }
   },
   "source": [
    "https://cse163.github.io/book/module-4-libraries-for-data-science/lesson-12-machine-learning-pt-2/practice-reflecting-on-when-to-not-use-ml.html"
   ]
  },
  {
   "cell_type": "raw",
   "metadata": {
    "vscode": {
     "languageId": "raw"
    }
   },
   "source": [
    "Question 0: Did you find anything interesting, challenging, or thought-provoking in the reading “When to Not Use ML”? How does that add to your\n",
    "perspective of when to use ML?\n",
    "    I found the part where it asks, \"how will the model ultimately be used?\". When I think of ML, I often think about the problems that it COULD \n",
    "    solve, but sometimes omit the \"how\". In addition, although ML can be productive in producing a response, but in the end, due to ethics, in many\n",
    "    scenarios, humans often make those decisions.\n",
    "    I also found the \"small biases\" factor super interesting. Even if many factors point towards using ML, making sure that the process makes sure to\n",
    "    avoid implicit biases."
   ]
  },
  {
   "cell_type": "raw",
   "metadata": {
    "vscode": {
     "languageId": "raw"
    }
   },
   "source": [
    "Question 1: Consider the case of our credit card churn predictor. Suppose we were using it in our first use case of predicting whether a current\n",
    "customer is likely to churn, and if they are, provide them with special offers to incentivize them to stay. Would you endorse using such a system?\n",
    "Why or why not? Justify what concerns you might have about this system or why you think some potential concerns do not outweigh the benefit of the model.\n",
    "    Considering the credit card churn predictor, I think that it's a little concerning to use something like this, despite it being almost an industry\n",
    "    normal. When there are systems in place to keep people hooked to a product or commodity, it feels a little concerning that the people are, in a way,\n",
    "    losing their ability to creatively think and freely have thoughts. To me, I think it's a little concerning the way apps like Instagram, Youtube, and many\n",
    "    social media apps keep young individuals hooked, using algorithms to constantly feed content that they like - although it's really nice to have that,\n",
    "    it's a little much sometimes.\n",
    "    Over all this though, I do find the algorithms and how things are able to keep people hooked very fascinating."
   ]
  },
  {
   "cell_type": "raw",
   "metadata": {
    "vscode": {
     "languageId": "raw"
    }
   },
   "source": [
    "Question 2: Consider the case of our credit card churn predictor. Suppose we were using it in our second use case of predicting whether a new customer\n",
    "is likely to churn or not, and if they are, don't provide them with a credit card in the first place. Would you endorse using such a system? Why or why\n",
    "not? Justify what concerns you might have about this system or why you think some potential concerns do not outweigh the benefit of the model.\n",
    "    In something like this, I think that this is more ethically okay, as it isn't implicitly persuading someone to stay and, in a way, preventing thought.\n",
    "    This second case seems more of something that controls things in a business oriented aspect, where it controls the flow and reasonability of a person's\n",
    "    actions. I'm not sure if that makes sense."
   ]
  }
 ],
 "metadata": {
  "language_info": {
   "name": "python"
  }
 },
 "nbformat": 4,
 "nbformat_minor": 2
}
