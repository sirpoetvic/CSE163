{
 "cells": [
  {
   "cell_type": "code",
   "execution_count": null,
   "metadata": {},
   "outputs": [],
   "source": [
    "# Problem 0\n",
    "print(1 + 2)\n",
    "\n",
    "for i in range(25):\n",
    "    print(i)\n",
    "    print(i * 2)\n",
    "\n",
    "print(2 + 3)\n",
    "\n",
    "# "
   ]
  },
  {
   "cell_type": "code",
   "execution_count": null,
   "metadata": {},
   "outputs": [],
   "source": [
    "# Problem 1\n",
    "for i in range(42):\n",
    "    print(i)\n",
    "\n",
    "for i in range(20):\n",
    "    print(1 + 2)\n",
    "    print(i ** 2)\n",
    "\n",
    "print(1)\n",
    "print(2)\n",
    "print(3)"
   ]
  },
  {
   "cell_type": "code",
   "execution_count": null,
   "metadata": {},
   "outputs": [],
   "source": [
    "# Problem 2\n",
    "for i in range(10):\n",
    "    for j in range(20):\n",
    "        print(i * j)\n",
    "        print(i ** j)"
   ]
  }
 ],
 "metadata": {
  "kernelspec": {
   "display_name": "Python 3",
   "language": "python",
   "name": "python3"
  },
  "language_info": {
   "codemirror_mode": {
    "name": "ipython",
    "version": 3
   },
   "file_extension": ".py",
   "mimetype": "text/x-python",
   "name": "python",
   "nbconvert_exporter": "python",
   "pygments_lexer": "ipython3",
   "version": "3.12.0"
  }
 },
 "nbformat": 4,
 "nbformat_minor": 2
}
