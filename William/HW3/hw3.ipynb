{
 "cells": [
  {
   "cell_type": "code",
   "execution_count": 34,
   "metadata": {},
   "outputs": [
    {
     "data": {
      "text/html": [
       "<div>\n",
       "<style scoped>\n",
       "    .dataframe tbody tr th:only-of-type {\n",
       "        vertical-align: middle;\n",
       "    }\n",
       "\n",
       "    .dataframe tbody tr th {\n",
       "        vertical-align: top;\n",
       "    }\n",
       "\n",
       "    .dataframe thead th {\n",
       "        text-align: right;\n",
       "    }\n",
       "</style>\n",
       "<table border=\"1\" class=\"dataframe\">\n",
       "  <thead>\n",
       "    <tr style=\"text-align: right;\">\n",
       "      <th></th>\n",
       "      <th>Sex</th>\n",
       "      <th>Total</th>\n",
       "    </tr>\n",
       "  </thead>\n",
       "  <tbody>\n",
       "    <tr>\n",
       "      <th>112</th>\n",
       "      <td>M</td>\n",
       "      <td>24.0</td>\n",
       "    </tr>\n",
       "    <tr>\n",
       "      <th>180</th>\n",
       "      <td>F</td>\n",
       "      <td>21.0</td>\n",
       "    </tr>\n",
       "  </tbody>\n",
       "</table>\n",
       "</div>"
      ],
      "text/plain": [
       "    Sex  Total\n",
       "112   M   24.0\n",
       "180   F   21.0"
      ]
     },
     "execution_count": 34,
     "metadata": {},
     "output_type": "execute_result"
    }
   ],
   "source": [
    "import pandas as pd\n",
    "\n",
    "data = pd.read_csv(\"nces-ed-attainment.csv\", na_values=[\"---\"])\n",
    "data.to_csv(\"nces-ed-attainment.csv\", index=False)\n",
    "\n",
    "    # Filter the data for Bachelor's degrees in or more 1980 for both sexes\n",
    "sort_grad = data[(data[\"Year\"] == 1980) & (data[\"Min degree\"] == \"bachelor's\") & ((data[\"Sex\"] == \"M\") | (data[\"Sex\"] == \"F\"))]\n",
    "    # Sorts columns by sex and total\n",
    "sort_st = sort_grad.loc[:, [\"Sex\", \"Total\"]]\n",
    "sort_st"
   ]
  },
  {
   "cell_type": "code",
   "execution_count": 21,
   "metadata": {},
   "outputs": [
    {
     "data": {
      "text/html": [
       "<div>\n",
       "<style scoped>\n",
       "    .dataframe tbody tr th:only-of-type {\n",
       "        vertical-align: middle;\n",
       "    }\n",
       "\n",
       "    .dataframe tbody tr th {\n",
       "        vertical-align: top;\n",
       "    }\n",
       "\n",
       "    .dataframe thead th {\n",
       "        text-align: right;\n",
       "    }\n",
       "</style>\n",
       "<table border=\"1\" class=\"dataframe\">\n",
       "  <thead>\n",
       "    <tr style=\"text-align: right;\">\n",
       "      <th></th>\n",
       "      <th>Total</th>\n",
       "    </tr>\n",
       "    <tr>\n",
       "      <th>Sex</th>\n",
       "      <th></th>\n",
       "    </tr>\n",
       "  </thead>\n",
       "  <tbody>\n",
       "    <tr>\n",
       "      <th>F</th>\n",
       "      <td>21.0</td>\n",
       "    </tr>\n",
       "    <tr>\n",
       "      <th>M</th>\n",
       "      <td>24.0</td>\n",
       "    </tr>\n",
       "  </tbody>\n",
       "</table>\n",
       "</div>"
      ],
      "text/plain": [
       "     Total\n",
       "Sex       \n",
       "F     21.0\n",
       "M     24.0"
      ]
     },
     "execution_count": 21,
     "metadata": {},
     "output_type": "execute_result"
    }
   ],
   "source": [
    "sort_grad = data[\n",
    "        (data[\"Year\"] == 1980) & (data[\"Min degree\"] == \"bachelor's\")]\n",
    "    # Sorts columns by sex and total\n",
    "sort_data = sort_grad.loc[:, [\"Sex\", \"Total\"]]\n",
    "    # Takes columns previously, sorts by M and F, then sums the total\n",
    "    # Which is the %. sort_gender is a series, split like this for flake8 sake\n",
    "sort_gender = (\n",
    "        sort_data[(sort_data[\"Sex\"] == \"M\") | (sort_data[\"Sex\"] == \"F\")]\n",
    "        .groupby(\"Sex\")[\"Total\"]\n",
    "        .sum()\n",
    "    )\n",
    "    # convert sort_gender into a dataframe again\n",
    "df = pd.DataFrame(sort_gender)\n",
    "df"
   ]
  }
 ],
 "metadata": {
  "kernelspec": {
   "display_name": "Python 3",
   "language": "python",
   "name": "python3"
  },
  "language_info": {
   "codemirror_mode": {
    "name": "ipython",
    "version": 3
   },
   "file_extension": ".py",
   "mimetype": "text/x-python",
   "name": "python",
   "nbconvert_exporter": "python",
   "pygments_lexer": "ipython3",
   "version": "3.12.0"
  }
 },
 "nbformat": 4,
 "nbformat_minor": 2
}
